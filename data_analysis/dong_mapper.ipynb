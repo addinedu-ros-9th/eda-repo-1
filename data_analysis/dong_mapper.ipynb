{
 "cells": [
  {
   "cell_type": "markdown",
   "metadata": {},
   "source": [
    "컬럼 확인"
   ]
  },
  {
   "cell_type": "code",
   "execution_count": 2,
   "metadata": {},
   "outputs": [
    {
     "name": "stdout",
     "output_type": "stream",
     "text": [
      "Index(['adm_nm', 'adm_cd2', 'sgg', 'sido', 'sidonm', 'sggnm', 'adm_cd',\n",
      "       'geometry'],\n",
      "      dtype='object')\n"
     ]
    }
   ],
   "source": [
    "import geopandas as gpd\n",
    "\n",
    "gdf_admin = gpd.read_file(\"/home/kbj/Downloads/HangJeongDong_ver20241001.geojson\")\n",
    "print(gdf_admin.columns)  # 어떤 행정동 정보가 있는지 확인\n"
   ]
  },
  {
   "cell_type": "code",
   "execution_count": 5,
   "metadata": {},
   "outputs": [],
   "source": [
    "import pandas as pd\n",
    "from shapely.geometry import Point\n",
    "\n",
    "df_station = pd.read_csv(\"/home/kbj/Downloads/station_table.csv\")\n",
    "\n",
    "# geometry 컬럼 생성\n",
    "df_station[\"geometry\"] = df_station.apply(lambda row: Point(row[\"station_longitude\"], row[\"station_latitude\"]), axis=1)\n",
    "gdf_station = gpd.GeoDataFrame(df_station, geometry=\"geometry\", crs=\"EPSG:4326\")\n"
   ]
  },
  {
   "cell_type": "markdown",
   "metadata": {},
   "source": [
    "행정동 경계 좌표계 맞추기"
   ]
  },
  {
   "cell_type": "code",
   "execution_count": null,
   "metadata": {},
   "outputs": [],
   "source": [
    "gdf_admin = gdf_admin.to_crs(\"EPSG:4326\")  \n",
    "gdf_joined = gpd.sjoin(gdf_station, gdf_admin, how=\"left\", predicate=\"intersects\")\n"
   ]
  },
  {
   "cell_type": "code",
   "execution_count": null,
   "metadata": {},
   "outputs": [
    {
     "name": "stdout",
     "output_type": "stream",
     "text": [
      "완료! 파일 저장됨: station_with_admin_dong.csv\n"
     ]
    }
   ],
   "source": [
    "import pandas as pd\n",
    "import geopandas as gpd\n",
    "from shapely.geometry import Point\n",
    "\n",
    "df = pd.read_csv(\"/home/kbj/Downloads/station_table.csv\")\n",
    "\n",
    "gdf_stations = gpd.GeoDataFrame(\n",
    "    df,\n",
    "    geometry=df.apply(lambda row: Point(row['station_longitude'], row['station_latitude']), axis=1),\n",
    "    crs=\"EPSG:4326\"\n",
    ")\n",
    "\n",
    "gdf_dong = gpd.read_file(\"/home/kbj/Downloads/HangJeongDong_ver20241001.geojson\")\n",
    "\n",
    "gdf_joined = gpd.sjoin(gdf_stations, gdf_dong, how=\"left\", predicate=\"within\")\n",
    "\n",
    "df_result = gdf_joined[[\n",
    "    \"station_id\", \"station_gu\", \"station_dong\",\n",
    "    \"station_latitude\", \"station_longitude\", \"adm_nm\"\n",
    "]].rename(columns={\"adm_nm\": \"행정동명\"})\n",
    "\n",
    "\n",
    "df_result.to_csv(\"/home/kbj/Downloads/station_with_admin_dong.csv\", index=False)\n",
    "print(\"완료! 파일 저장됨: station_with_admin_dong.csv\")\n"
   ]
  },
  {
   "cell_type": "code",
   "execution_count": null,
   "metadata": {},
   "outputs": [
    {
     "name": "stdout",
     "output_type": "stream",
     "text": [
      "✅ 위치: 서울특별시 강남구 역삼1동\n"
     ]
    }
   ],
   "source": [
    "import pandas as pd\n",
    "import geopandas as gpd\n",
    "from shapely.geometry import Point\n",
    "\n",
    "gdf_dong = gpd.read_file(\"/home/kbj/Downloads/HangJeongDong_ver20241001.geojson\")\n",
    "\n",
    "def get_dong_from_coords(lat, lon):\n",
    "    point_gdf = gpd.GeoDataFrame(\n",
    "        geometry=[Point(lon, lat)],\n",
    "        crs=\"EPSG:4326\"\n",
    "    )\n",
    "\n",
    "    joined = gpd.sjoin(point_gdf, gdf_dong, how=\"left\", predicate=\"within\")\n",
    "\n",
    "    if not joined.empty:\n",
    "        full_name = joined.iloc[0][\"adm_nm\"]  # ex. \"서울특별시 강남구 역삼1동\"\n",
    "        parts = full_name.split()\n",
    "        if len(parts) >= 3:\n",
    "            return parts[1], parts[2] \n",
    "        else:\n",
    "            return None, None\n",
    "    else:\n",
    "        return None, None\n",
    "\n",
    "lat = 37.4981\n",
    "lon = 127.0276\n",
    "gu, dong = get_dong_from_coords(lat, lon)\n",
    "print(f\"✅ 위치: 서울특별시 {gu} {dong}\" if gu and dong else \"❌ 위치를 찾을 수 없습니다.\")\n"
   ]
  },
  {
   "cell_type": "code",
   "execution_count": null,
   "metadata": {},
   "outputs": [
    {
     "name": "stdout",
     "output_type": "stream",
     "text": [
      "✅ 위치: 서울특별시 nan nan\n"
     ]
    }
   ],
   "source": [
    "import pandas as pd\n",
    "import geopandas as gpd\n",
    "from shapely.geometry import Point\n",
    "\n",
    "gdf_dong = gpd.read_file(\"/home/kbj/Downloads/HangJeongDong_ver20241001.geojson\")\n",
    "\n",
    "df_code = pd.read_csv(\"/home/kbj/Downloads/행정동코드_변환.csv\")\n",
    "\n",
    "df_code[\"행정동코드\"] = df_code[\"행정동코드\"].astype(str).str.slice(0, 8)\n",
    "gdf_dong[\"adm_cd\"] = gdf_dong[\"adm_cd\"].astype(str)\n",
    "\n",
    "gdf_dong = gdf_dong.merge(df_code, left_on=\"adm_cd\", right_on=\"행정동코드\", how=\"left\")\n",
    "\n",
    "def find_admin_dong(lat, lon):\n",
    "    point = Point(lon, lat)  # 좌표 순서: 경도, 위도\n",
    "    match = gdf_dong[gdf_dong.geometry.intersects(point)]\n",
    "    if not match.empty:\n",
    "        row = match.iloc[0]\n",
    "        return row[\"시군구명\"], row[\"읍면동명\"]\n",
    "    else:\n",
    "        return None, None\n",
    "\n",
    "lat = 37.4981\n",
    "lon = 127.0276\n",
    "gu, dong = find_admin_dong(lat, lon)\n",
    "\n",
    "if gu and dong:\n",
    "    print(f\" 위치: 서울특별시 {gu} {dong}\")\n",
    "else:\n",
    "    print(\" 위치를 찾을 수 없습니다.\")\n"
   ]
  },
  {
   "cell_type": "markdown",
   "metadata": {},
   "source": [
    "위도 경도 잘나오는지 파악"
   ]
  },
  {
   "cell_type": "code",
   "execution_count": 10,
   "metadata": {},
   "outputs": [
    {
     "name": "stdout",
     "output_type": "stream",
     "text": [
      "POINT (127.0276 37.4981)\n"
     ]
    }
   ],
   "source": [
    "from shapely.geometry import Point\n",
    "\n",
    "test_point = Point(127.0276, 37.4981)  # 경도, 위도\n",
    "print(test_point)\n"
   ]
  },
  {
   "cell_type": "markdown",
   "metadata": {},
   "source": [
    "행이 매칭되는지"
   ]
  },
  {
   "cell_type": "code",
   "execution_count": null,
   "metadata": {},
   "outputs": [
    {
     "name": "stdout",
     "output_type": "stream",
     "text": [
      "매칭된 행 개수: 1\n",
      "    시군구명 읍면동명\n",
      "364  NaN  NaN\n"
     ]
    }
   ],
   "source": [
    "point = Point(127.0276, 37.4981)\n",
    "matches = gdf_dong[gdf_dong.geometry.contains(point)]\n",
    "\n",
    "print(\"매칭된 행 개수:\", len(matches))\n",
    "if not matches.empty:\n",
    "    print(matches[[\"시군구명\", \"읍면동명\"]])\n",
    "else:\n",
    "    print(\" 이 좌표를 포함하는 행정동이 없습니다.\")\n"
   ]
  },
  {
   "cell_type": "code",
   "execution_count": 4,
   "metadata": {},
   "outputs": [
    {
     "name": "stdout",
     "output_type": "stream",
     "text": [
      "Index(['행정동코드', '시도명', '시군구명', '읍면동명'], dtype='object')\n"
     ]
    }
   ],
   "source": [
    "print(df_code.columns)\n"
   ]
  },
  {
   "cell_type": "code",
   "execution_count": 10,
   "metadata": {},
   "outputs": [
    {
     "name": "stdout",
     "output_type": "stream",
     "text": [
      "Index(['adm_nm', 'adm_cd2', 'sgg', 'sido', 'sidonm', 'sggnm', 'adm_cd',\n",
      "       'geometry'],\n",
      "      dtype='object')\n"
     ]
    }
   ],
   "source": [
    "print(gdf_dong.columns)\n"
   ]
  },
  {
   "cell_type": "code",
   "execution_count": null,
   "metadata": {},
   "outputs": [
    {
     "name": "stdout",
     "output_type": "stream",
     "text": [
      "             행정동명 행정동_only\n",
      "0   서울특별시 마포구 서교동      서교동\n",
      "1  서울특별시 광진구 자양3동     자양3동\n",
      "2  서울특별시 양천구 신정7동     신정7동\n",
      "3  서울특별시 양천구 신월3동     신월3동\n",
      "4   서울특별시 양천구 목1동      목1동\n"
     ]
    }
   ],
   "source": [
    "import pandas as pd\n",
    "\n",
    "df = pd.read_csv(\"/home/kbj/Downloads/station_with_admin_dong.csv\")\n",
    "\n",
    "df[\"행정동_only\"] = df[\"행정동명\"].str.replace(\"서울특별시\", \"\", regex=False)\n",
    "df[\"행정동_only\"] = df[\"행정동_only\"].str.replace(r\"\\s*\\S+구\\s*\", \"\", regex=True)  # 'XX구' 제거\n",
    "\n",
    "print(df[[\"행정동명\", \"행정동_only\"]].head())\n",
    "\n",
    "\n",
    "df.to_csv(\"station_with_dong_only.csv\", index=False)\n"
   ]
  },
  {
   "cell_type": "code",
   "execution_count": null,
   "metadata": {},
   "outputs": [
    {
     "name": "stdout",
     "output_type": "stream",
     "text": [
      "  행정동_only\n",
      "0      서교동\n",
      "1     자양3동\n",
      "2     신정7동\n",
      "3     신월3동\n",
      "4      목1동\n"
     ]
    }
   ],
   "source": [
    "import pandas as pd\n",
    "\n",
    "# CSV 불러오기\n",
    "df = pd.read_csv(\"/home/kbj/Downloads/station_with_dong_only.csv\")\n",
    "\n",
    "df[\"행정동_only\"] = df[\"행정동_only\"].str.replace(\"·\", \".\", regex=False)\n",
    "\n",
    "df.to_csv(\"station_with_dong_only_fixed.csv\", index=False)\n",
    "\n",
    "print(df[[\"행정동_only\"]].head())"
   ]
  },
  {
   "cell_type": "code",
   "execution_count": null,
   "metadata": {},
   "outputs": [],
   "source": [
    "import pandas as pd\n",
    "import mysql.connector\n",
    "\n",
    "# CSV 불러오기\n",
    "df = pd.read_csv(\"/home/kbj/Downloads/station_with_dong_only_fixed.csv\")\n",
    "\n",
    "# MySQL 연결\n",
    "conn = mysql.connector.connect(\n",
    "    host=\"host\",\n",
    "    port=0000,\n",
    "    user=\"user\",\n",
    "    password=\"password\",\n",
    "    database=\"project1\"\n",
    ")\n",
    "cursor = conn.cursor()\n",
    "\n",
    "# 테이블 생성\n",
    "create_table_sql = \"\"\"\n",
    "CREATE TABLE IF NOT EXISTS station_b (\n",
    "    station_id VARCHAR(20) PRIMARY KEY,\n",
    "    station_gu VARCHAR(20),\n",
    "    station_latitude DOUBLE,\n",
    "    station_longitude DOUBLE,\n",
    "    station_elevation INT,\n",
    "    station_dong VARCHAR(50)\n",
    ");\n",
    "\"\"\"\n",
    "cursor.execute(create_table_sql)\n",
    "\n",
    "# 데이터 삽입\n",
    "for _, row in df.iterrows():\n",
    "    cursor.execute(\"\"\"\n",
    "        INSERT INTO station_b (station_id, station_gu, station_latitude, station_longitude, station_elevation, station_dong)\n",
    "        VALUES (%s, %s, %s, %s, %s, %s)\n",
    "    \"\"\", (\n",
    "        row['station_id'],\n",
    "        row['station_gu'],\n",
    "        row['station_latitude'],\n",
    "        row['station_longitude'],\n",
    "        int(row['station_elevation']),\n",
    "        row['행정동_only']  # 여기 수정됨!\n",
    "    ))\n",
    "\n",
    "conn.commit()\n",
    "cursor.close()\n",
    "conn.close()\n"
   ]
  }
 ],
 "metadata": {
  "kernelspec": {
   "display_name": "eda_venv",
   "language": "python",
   "name": "python3"
  },
  "language_info": {
   "codemirror_mode": {
    "name": "ipython",
    "version": 3
   },
   "file_extension": ".py",
   "mimetype": "text/x-python",
   "name": "python",
   "nbconvert_exporter": "python",
   "pygments_lexer": "ipython3",
   "version": "3.10.12"
  }
 },
 "nbformat": 4,
 "nbformat_minor": 2
}
