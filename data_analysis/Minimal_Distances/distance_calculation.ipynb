{
 "cells": [
  {
   "cell_type": "markdown",
   "id": "de222a8d",
   "metadata": {},
   "source": [
    "# 1. 두개의 좌표 거리 구하기 (심플)"
   ]
  },
  {
   "cell_type": "code",
   "execution_count": null,
   "id": "28c56e5b",
   "metadata": {},
   "outputs": [
    {
     "name": "stdout",
     "output_type": "stream",
     "text": [
      "거리: 27598.94m\n"
     ]
    }
   ],
   "source": [
    "from geopy.distance import geodesic\n",
    "\n",
    "#-------------------사용자 인풋 (좌표)------------------------------\n",
    "latA = \"37.568546\"\n",
    "lngA = \"127.17701\"\n",
    "latB = \"37.460171\"\n",
    "lngB = \"126.896042\"\n",
    "\n",
    "#-------------------------거리 계산----------------------------\n",
    "distance = geodesic((latA, lngA), (latB, lngB)).meters\n",
    "\n",
    "print(f\"거리: {distance:.2f}m\")"
   ]
  },
  {
   "cell_type": "markdown",
   "id": "8fbce02d",
   "metadata": {},
   "source": [
    "# 2. 두개 이상의 좌표간의 거리 구하기 (필요 없을 것으로 예상)"
   ]
  },
  {
   "cell_type": "code",
   "execution_count": null,
   "id": "4f1693b2",
   "metadata": {},
   "outputs": [
    {
     "name": "stdout",
     "output_type": "stream",
     "text": [
      "대여소 위치: (37.5668, 126.9783), 거리: 42.56m\n",
      "대여소 위치: (37.57, 126.98), 거리: 426.75m\n",
      "대여소 위치: (37.563, 126.975), 거리: 470.27m\n"
     ]
    }
   ],
   "source": [
    "from geopy.distance import geodesic\n",
    "\n",
    "# 사용자 위치\n",
    "user_loc = (37.5665, 126.9780)  # (위도, 경도)\n",
    "\n",
    "# 대여소 위치들 (DB에서 가져온다고 가정)\n",
    "rental_spots = [\n",
    "    (37.5668, 126.9783),\n",
    "    (37.5700, 126.9800),\n",
    "    (37.5630, 126.9750)\n",
    "]\n",
    "\n",
    "# 거리 계산 및 가까운 순으로 정렬\n",
    "distances = []\n",
    "for spot in rental_spots:\n",
    "    dist = geodesic(user_loc, spot).meters\n",
    "    distances.append((spot, dist))\n",
    "\n",
    "# 가까운 순으로 정렬\n",
    "distances.sort(key=lambda x: x[1])\n",
    "\n",
    "# 결과 출력\n",
    "for spot, dist in distances:\n",
    "    print(f\"대여소 위치: {spot}, 거리: {dist:.2f}m\")"
   ]
  },
  {
   "cell_type": "markdown",
   "id": "81240308",
   "metadata": {},
   "source": [
    "# 3. 특정 좌표에 가장 가까운 Station 구하기"
   ]
  },
  {
   "cell_type": "code",
   "execution_count": null,
   "id": "6070b651",
   "metadata": {},
   "outputs": [
    {
     "data": {
      "text/plain": [
       "[('강서구', 'ST-1063', 0.0),\n",
       " ('강서구', 'ST-2871', 55.6),\n",
       " ('강서구', 'ST-1709', 223.7),\n",
       " ('강서구', 'ST-2052', 232.7),\n",
       " ('강서구', 'ST-2993', 261.6)]"
      ]
     },
     "metadata": {},
     "output_type": "display_data"
    }
   ],
   "source": [
    "import mysql.connector\n",
    "\n",
    "\n",
    "#-------------------사용자 인풋---------------------\n",
    "input_lat = 37.560207   # 위도는?\n",
    "input_lng = 126.824142  # 경도는?\n",
    "limit = 5   # 결과는 몇개?\n",
    "\n",
    "\n",
    "\n",
    "#----------------------가장 가까운 대여소 10개 탐색-------------------------\n",
    "def get_nearest_stations(lat, lng, lim):\n",
    "    \n",
    "    remote = mysql.connector.connect (\n",
    "        host = \"jinhyuk2db.c94oygiiukcg.ap-northeast-2.rds.amazonaws.com\",\n",
    "        port = 3306,\n",
    "        user = \"root\",\n",
    "        password = \"jinhyuk2dacibul\",\n",
    "        database = \"project1\"\n",
    "    )\n",
    "\n",
    "    cursor = remote.cursor(buffered=True)\n",
    "    cursor.execute(f\"\"\"SELECT station_gu 지역, station_id 대여소ID, \\\n",
    "                    ROUND(ST_Distance_Sphere\\\n",
    "                    (POINT(station_longitude, station_latitude), \\\n",
    "                    POINT({lng}, {lat})), 1) as 거리\\\n",
    "                    FROM station\\\n",
    "                    ORDER BY 거리 ASC\\\n",
    "                    LIMIT {lim}\"\"\")\n",
    "\n",
    "    result = cursor.fetchall()\n",
    "\n",
    "    return result\n",
    "\n",
    "\n",
    "\n",
    "#----------------------호출-------------------------\n",
    "get_nearest_stations(input_lat, input_lng, limit)\n"
   ]
  }
 ],
 "metadata": {
  "language_info": {
   "name": "python"
  }
 },
 "nbformat": 4,
 "nbformat_minor": 5
}
