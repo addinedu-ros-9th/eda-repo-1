{
 "cells": [
  {
   "cell_type": "markdown",
   "metadata": {},
   "source": [
    "## DB에서 CSV로 추출\n",
    "- rental_daily_station 테이블에서 rental_station_id 별로 rental_count 합산\n",
    "\n",
    "---"
   ]
  },
  {
   "cell_type": "code",
   "execution_count": 3,
   "metadata": {},
   "outputs": [
    {
     "name": "stderr",
     "output_type": "stream",
     "text": [
      "/tmp/ipykernel_34349/698246760.py:21: UserWarning: pandas only supports SQLAlchemy connectable (engine/connection) or database string URI or sqlite3 DBAPI2 connection. Other DBAPI2 objects are not tested. Please consider using SQLAlchemy.\n",
      "  df = pd.read_sql(query, conn)\n"
     ]
    },
    {
     "name": "stdout",
     "output_type": "stream",
     "text": [
      "CSV 파일로 저장이 완료되었습니다.\n"
     ]
    }
   ],
   "source": [
    "import mysql.connector\n",
    "import pandas as pd\n",
    "\n",
    "# MySQL RDS 연결\n",
    "conn = mysql.connector.connect(\n",
    "    host='jinhyuk2db.c94oygiiukcg.ap-northeast-2.rds.amazonaws.com',\n",
    "    port=3306,\n",
    "    user='root',\n",
    "    password='jinhyuk2dacibul',\n",
    "    database='project1'\n",
    ")\n",
    "\n",
    "# 쿼리 실행: rental_station_id 별로 rental_count 합산\n",
    "query = \"\"\"\n",
    "SELECT rental_station_id, SUM(rental_count) AS total_rental_count\n",
    "FROM rental_daily_station\n",
    "GROUP BY rental_station_id;\n",
    "\"\"\"\n",
    "\n",
    "# Pandas DataFrame에 쿼리 결과 로드\n",
    "df = pd.read_sql(query, conn)\n",
    "\n",
    "# DataFrame을 CSV 파일로 저장\n",
    "df.to_csv('../data/rental_station_summary.csv', index=False)\n",
    "\n",
    "# 연결 종료\n",
    "conn.close()\n",
    "\n",
    "print(\"CSV 파일로 저장이 완료되었습니다.\")\n"
   ]
  },
  {
   "cell_type": "markdown",
   "metadata": {},
   "source": [
    "---\n",
    "## CSV가공 후 추출 - 시간대별 버스 승객 수\n",
    "- **bus_hourly_summary_cleaned** CSV 파일 에서 **date_period**와 **hour_of_day** 기준으로 **bus_count**를 계산하여 **CSV** 파일로 저장합니다.\n",
    "- 이 과정에서는 **hour_of_day**별로 승객 수를 **합산**하여 시간대별 **버스 승객 수**를 구하고, 그 결과를 새로운 **CSV** 파일로 저장합니다.\n",
    "---"
   ]
  },
  {
   "cell_type": "code",
   "execution_count": 12,
   "metadata": {},
   "outputs": [
    {
     "name": "stdout",
     "output_type": "stream",
     "text": [
      "파일 저장 완료\n"
     ]
    }
   ],
   "source": [
    "import pandas as pd\n",
    "\n",
    "# 데이터 불러오기\n",
    "df_bus = pd.read_csv(\"../data/bus_hourly_summary_cleaned.csv\")\n",
    "\n",
    "# 시간대별로 합산할 컬럼들\n",
    "boarding_columns = [f\"boarding_{i:02d}\" for i in range(24)]\n",
    "alighting_columns = [f\"alighting_{i:02d}\" for i in range(24)]\n",
    "\n",
    "# 시간대별 총 승객 수 계산\n",
    "df_bus['bus_count'] = df_bus[boarding_columns].sum(axis=1) + df_bus[alighting_columns].sum(axis=1)\n",
    "\n",
    "# 'hour_of_day'와 'bus_count' 추출하여 새로운 형식으로 변환\n",
    "df_bus_long = pd.melt(df_bus, \n",
    "                      id_vars=['date_period'],  # 'dong'과 'gu' 제거, 'date_period' 유지\n",
    "                      value_vars=boarding_columns + alighting_columns, \n",
    "                      var_name='hour_of_day', \n",
    "                      value_name='count')\n",
    "\n",
    "# 'hour_of_day'에서 시간 정보만 추출 (예: boarding_00 -> 0)\n",
    "df_bus_long['hour_of_day'] = df_bus_long['hour_of_day'].apply(lambda x: int(x.split('_')[1]))\n",
    "\n",
    "# 'count' 컬럼을 버스 승객수로 지정 (boarding과 alighting 구분 없이 합산된 총승객수)\n",
    "df_bus_long['bus_count'] = df_bus_long['count']\n",
    "\n",
    "# date_period와 hour_of_day별 총합 계산\n",
    "df_bus_summary = df_bus_long.groupby(['date_period', 'hour_of_day'])['bus_count'].sum().reset_index()\n",
    "\n",
    "# CSV로 저장\n",
    "df_bus_summary.to_csv(\"../data/bus_hourly_summary_total_with_date_period.csv\", index=False)\n",
    "\n",
    "print(\"파일 저장 완료\")\n"
   ]
  },
  {
   "cell_type": "markdown",
   "metadata": {},
   "source": [
    "---\n",
    "## CSV가공 후 추출 - 시간대별 지하철 승객 수\n",
    "- **subway_hourly_summary_cleaned** CSV 파일에서 **date_period**와 **hour_of_day** 기준으로 **subway_count**를 계산하여 **CSV** 파일로 저장합니다.\n",
    "- 이 과정에서는 **hour_of_day**별로 승객 수를 **합산**하여 시간대별 **지하철 승객 수**를 구하고, 그 결과를 새로운 **CSV** 파일로 저장합니다.\n",
    "---\n"
   ]
  },
  {
   "cell_type": "code",
   "execution_count": 13,
   "metadata": {},
   "outputs": [
    {
     "name": "stdout",
     "output_type": "stream",
     "text": [
      "파일 저장 완료\n"
     ]
    }
   ],
   "source": [
    "import pandas as pd\n",
    "\n",
    "# 데이터 불러오기\n",
    "df_subway = pd.read_csv(\"../data/subway_hourly_summary_cleaned.csv\")\n",
    "\n",
    "# 시간대별로 합산할 컬럼들\n",
    "boarding_columns = [f\"boarding_{i:02d}\" for i in range(24)]\n",
    "alighting_columns = [f\"alighting_{i:02d}\" for i in range(24)]\n",
    "\n",
    "# 시간대별 총 승객 수 계산\n",
    "df_subway['subway_count'] = df_subway[boarding_columns].sum(axis=1) + df_subway[alighting_columns].sum(axis=1)\n",
    "\n",
    "# 'hour_of_day'와 'subway_count' 추출하여 새로운 형식으로 변환\n",
    "df_subway_long = pd.melt(df_subway, \n",
    "                         id_vars=['date_period'],  # 'dong'과 'gu' 제거, 'date_period' 유지\n",
    "                         value_vars=boarding_columns + alighting_columns, \n",
    "                         var_name='hour_of_day', \n",
    "                         value_name='count')\n",
    "\n",
    "# 'hour_of_day'에서 시간 정보만 추출 (예: boarding_00 -> 0)\n",
    "df_subway_long['hour_of_day'] = df_subway_long['hour_of_day'].apply(lambda x: int(x.split('_')[1]))\n",
    "\n",
    "# 'count' 컬럼을 지하철 승객수로 지정 (boarding과 alighting 구분 없이 합산된 총승객수)\n",
    "df_subway_long['subway_count'] = df_subway_long['count']\n",
    "\n",
    "# date_period와 hour_of_day별 총합 계산\n",
    "df_subway_summary = df_subway_long.groupby(['date_period', 'hour_of_day'])['subway_count'].sum().reset_index()\n",
    "\n",
    "# CSV로 저장\n",
    "df_subway_summary.to_csv(\"../data/subway_hourly_summary_total_with_date_period.csv\", index=False)\n",
    "\n",
    "print(\"파일 저장 완료\")\n"
   ]
  },
  {
   "cell_type": "markdown",
   "metadata": {},
   "source": [
    "---\n",
    "## CSV 가공 후 추출 - 행정동 별 대중교통 이용수 합\n",
    "- **subway_hourly_summary_cleaned, bus_hourly_summary_cleaned** CSV 파일에서 **date_period**와 **hour_of_day** 기준으로 **subway_count, bus_count**를 계산하여 **CSV** 파일로 저장합니다.\n",
    "  \n",
    "- 이 과정에서는 **hour_of_day**별로 승객 수를 **합산**하여 시간대별 **승객 수**를 구하고, 그 결과를 새로운 **CSV** 파일로 저장합니다.\n",
    "\n",
    "---"
   ]
  },
  {
   "cell_type": "code",
   "execution_count": 1,
   "metadata": {},
   "outputs": [
    {
     "name": "stdout",
     "output_type": "stream",
     "text": [
      "버스 이용객 수 합산 결과:\n",
      "   dong   gu   bus_count\n",
      "0   가락동  송파구  16311776.0\n",
      "1  가리봉동  구로구   5349066.0\n",
      "2   가산동  금천구  21710342.0\n",
      "3   가양동  강서구   5654045.0\n",
      "4   가회동  종로구    509478.0\n",
      "지하철 이용객 수 합산 결과:\n",
      "   dong   gu  subway_count\n",
      "0  가락2동  송파구    28637156.0\n",
      "1   가산동  금천구    27801649.0\n",
      "2  가흥1동  송파구    14709154.0\n",
      "3   갈현동  은평구    23717223.0\n",
      "4  개포3동  강남구    10532482.0\n",
      "파일 저장 완료\n"
     ]
    }
   ],
   "source": [
    "import pandas as pd\n",
    "\n",
    "# 데이터 불러오기\n",
    "df_bus = pd.read_csv(\"../data/bus_hourly_summary_cleaned.csv\")\n",
    "df_subway = pd.read_csv(\"../data/subway_hourly_summary_cleaned.csv\")\n",
    "\n",
    "# 버스 시간대별로 합산할 컬럼들\n",
    "bus_boarding_columns = [f\"boarding_{i:02d}\" for i in range(24)]\n",
    "bus_alighting_columns = [f\"alighting_{i:02d}\" for i in range(24)]\n",
    "\n",
    "# 지하철 시간대별로 합산할 컬럼들\n",
    "subway_boarding_columns = [f\"boarding_{i:02d}\" for i in range(24)]\n",
    "subway_alighting_columns = [f\"alighting_{i:02d}\" for i in range(24)]\n",
    "\n",
    "# 버스와 지하철의 총 이용객 수 계산\n",
    "df_bus['bus_count'] = df_bus[bus_boarding_columns].sum(axis=1) + df_bus[bus_alighting_columns].sum(axis=1)\n",
    "df_subway['subway_count'] = df_subway[subway_boarding_columns].sum(axis=1) + df_subway[subway_alighting_columns].sum(axis=1)\n",
    "\n",
    "# 행정동별 버스와 지하철 이용객 수 합산\n",
    "bus_agg_df = df_bus.groupby(['dong', 'gu'])['bus_count'].sum().reset_index()\n",
    "subway_agg_df = df_subway.groupby(['dong', 'gu'])['subway_count'].sum().reset_index()\n",
    "\n",
    "# 결과 확인\n",
    "print(\"버스 이용객 수 합산 결과:\")\n",
    "print(bus_agg_df.head())\n",
    "\n",
    "print(\"지하철 이용객 수 합산 결과:\")\n",
    "print(subway_agg_df.head())\n",
    "\n",
    "# CSV로 저장 (../data 경로)\n",
    "bus_agg_df.to_csv(\"../data/bus_usage_summary.csv\", index=False)\n",
    "subway_agg_df.to_csv(\"../data/subway_usage_summary.csv\", index=False)\n",
    "\n",
    "print(\"파일 저장 완료\")\n"
   ]
  },
  {
   "cell_type": "markdown",
   "metadata": {},
   "source": [
    "## DB에서 CSV로 추출\n",
    "- **bus_station_hourly_timeflow** 테이블에서 각 버스정류소의 연간 총 이용객 수를 합산하고, \n",
    "- **bus_station_location** 테이블로부터 해당 버스정류소의 **dong**과 **gu** 정보를 추출하여 **CSV** 파일로 저장합니다.\n",
    "\n",
    "---"
   ]
  },
  {
   "cell_type": "code",
   "execution_count": 2,
   "metadata": {},
   "outputs": [
    {
     "name": "stdout",
     "output_type": "stream",
     "text": [
      "CSV 파일로 저장 완료\n"
     ]
    }
   ],
   "source": [
    "import mysql.connector\n",
    "import pandas as pd\n",
    "\n",
    "# MySQL 연결 설정\n",
    "db_connection = mysql.connector.connect(\n",
    "    host='jinhyuk2db.c94oygiiukcg.ap-northeast-2.rds.amazonaws.com',\n",
    "    port=3306,\n",
    "    user='root',\n",
    "    password='jinhyuk2dacibul',\n",
    "    database='project1'\n",
    ")\n",
    "\n",
    "# 커서 생성\n",
    "cursor = db_connection.cursor()\n",
    "\n",
    "# SQL 쿼리 작성: 각 버스정류소의 연간 총 이용객 수 합산 및 동, 구 추출\n",
    "query = \"\"\"\n",
    "    SELECT b.dong, b.gu, SUM(bt.boarding_00 + bt.alighting_00 + bt.boarding_01 + bt.alighting_01 + \n",
    "                             bt.boarding_02 + bt.alighting_02 + bt.boarding_03 + bt.alighting_03 + \n",
    "                             bt.boarding_04 + bt.alighting_04 + bt.boarding_05 + bt.alighting_05 + \n",
    "                             bt.boarding_06 + bt.alighting_06 + bt.boarding_07 + bt.alighting_07 + \n",
    "                             bt.boarding_08 + bt.alighting_08 + bt.boarding_09 + bt.alighting_09 + \n",
    "                             bt.boarding_10 + bt.alighting_10 + bt.boarding_11 + bt.alighting_11 + \n",
    "                             bt.boarding_12 + bt.alighting_12 + bt.boarding_13 + bt.alighting_13 + \n",
    "                             bt.boarding_14 + bt.alighting_14 + bt.boarding_15 + bt.alighting_15 + \n",
    "                             bt.boarding_16 + bt.alighting_16 + bt.boarding_17 + bt.alighting_17 + \n",
    "                             bt.boarding_18 + bt.alighting_18 + bt.boarding_19 + bt.alighting_19 + \n",
    "                             bt.boarding_20 + bt.alighting_20 + bt.boarding_21 + bt.alighting_21 + \n",
    "                             bt.boarding_22 + bt.alighting_22 + bt.boarding_23 + bt.alighting_23) AS total_usage\n",
    "    FROM bus_station_hourly_timeflow bt\n",
    "    JOIN bus_station_location b ON bt.bus_station_id = b.bus_station_id\n",
    "    GROUP BY b.dong, b.gu\n",
    "\"\"\"\n",
    "\n",
    "# 쿼리 실행\n",
    "cursor.execute(query)\n",
    "\n",
    "# 결과를 pandas DataFrame으로 저장\n",
    "data = cursor.fetchall()\n",
    "columns = ['dong', 'gu', 'total_usage']\n",
    "df = pd.DataFrame(data, columns=columns)\n",
    "\n",
    "# 결과를 CSV 파일로 저장\n",
    "df.to_csv('../data/bus_station_usage_summary.csv', index=False)\n",
    "\n",
    "# 데이터베이스 연결 종료\n",
    "cursor.close()\n",
    "db_connection.close()\n",
    "\n",
    "print(\"CSV 파일로 저장 완료\")\n"
   ]
  },
  {
   "cell_type": "markdown",
   "metadata": {},
   "source": [
    "---\n",
    "## CSV 가공 후 추출 - 법정동(dong)을 행정동으로 매핑하여 '행정동' 컬럼으로 추가\n",
    "- bus_hourly_summary_cleaned.csv 의 dong = 법정동\n",
    "- 행정구역(동별)_20250325154718.csv 에서 법정동 ↔ 행정동 관계 추출\n",
    "- 법정동 기준으로 매핑하여, '행정동' 컬럼을 추가\n",
    "---"
   ]
  },
  {
   "cell_type": "code",
   "execution_count": 3,
   "metadata": {},
   "outputs": [],
   "source": [
    "import pandas as pd\n",
    "\n",
    "# 1. 파일 로드\n",
    "bus_df = pd.read_csv(\"../data/bus_hourly_summary_cleaned.csv\", encoding=\"utf-8-sig\")\n",
    "admin_df = pd.read_csv(\"../data/행정구역(동별)_20250325154718.csv\", encoding=\"utf-8-sig\", skiprows=2)\n",
    "\n",
    "# 2. 법정동-행정동 매핑 테이블 생성\n",
    "# 동별(2) = 행정동명, 동별(3) = 법정동명\n",
    "mapping_df = admin_df[[\"동별(2)\", \"동별(3)\"]].copy()\n",
    "mapping_df.columns = [\"행정동\", \"법정동\"]\n",
    "\n",
    "# 중복 제거 (법정동 이름이 중복될 수 있으니 하나만 선택)\n",
    "mapping_df = mapping_df.drop_duplicates(subset=\"법정동\", keep=\"first\")\n",
    "\n",
    "# 3. 매핑: bus_df의 dong(=법정동) 기준으로 행정동 매핑\n",
    "bus_df = pd.merge(bus_df, mapping_df, how=\"left\", left_on=\"dong\", right_on=\"법정동\")\n",
    "\n",
    "# 4. 매핑에 사용한 '법정동' 컬럼 제거 (dong은 그대로 유지)\n",
    "bus_df = bus_df.drop(columns=[\"법정동\"])\n",
    "\n",
    "# 5. 결과 저장\n",
    "bus_df.to_csv(\"../data/bus_hourly_summary_with_admin_column.csv\", index=False, encoding=\"utf-8-sig\")\n"
   ]
  },
  {
   "cell_type": "markdown",
   "metadata": {},
   "source": [
    "---\n",
    "## CSV 추출 - MySQL에서 bus_station_hourly_timeflow 테이블 전체 조회 후 저장\n",
    "- MySQL의 project1 DB에서 bus_station_hourly_timeflow 테이블 전체 조회\n",
    "- pandas를 이용해 DataFrame으로 불러온 후 CSV로 저장\n",
    "- 저장 경로: ../data/bus_station_hourly_timeflow.csv\n",
    "---\n"
   ]
  },
  {
   "cell_type": "code",
   "execution_count": 4,
   "metadata": {},
   "outputs": [
    {
     "name": "stderr",
     "output_type": "stream",
     "text": [
      "/tmp/ipykernel_26024/1530841957.py:15: UserWarning: pandas only supports SQLAlchemy connectable (engine/connection) or database string URI or sqlite3 DBAPI2 connection. Other DBAPI2 objects are not tested. Please consider using SQLAlchemy.\n",
      "  df = pd.read_sql(query, conn)\n"
     ]
    },
    {
     "name": "stdout",
     "output_type": "stream",
     "text": [
      "CSV 저장 완료: ../data/bus_station_hourly_timeflow.csv\n"
     ]
    }
   ],
   "source": [
    "import pandas as pd\n",
    "import mysql.connector\n",
    "\n",
    "# 1. MySQL 연결 정보\n",
    "conn = mysql.connector.connect(\n",
    "    host='jinhyuk2db.c94oygiiukcg.ap-northeast-2.rds.amazonaws.com',\n",
    "    port=3306,\n",
    "    user='root',\n",
    "    password='jinhyuk2dacibul',\n",
    "    database='project1'\n",
    ")\n",
    "\n",
    "# 2. 데이터 불러오기\n",
    "query = \"SELECT * FROM bus_station_hourly_timeflow\"\n",
    "df = pd.read_sql(query, conn)\n",
    "\n",
    "# 3. 저장 경로 및 파일명\n",
    "save_path = '../data/bus_station_hourly_timeflow.csv'\n",
    "\n",
    "# 4. CSV 저장\n",
    "df.to_csv(save_path, index=False, encoding='utf-8-sig')\n",
    "\n",
    "# 5. 연결 종료\n",
    "conn.close()\n",
    "\n",
    "print(\"CSV 저장 완료:\", save_path)\n"
   ]
  },
  {
   "cell_type": "markdown",
   "metadata": {},
   "source": [
    "---\n",
    "## CSV 추출 - MySQL에서 bus_station_location 테이블 전체 조회 후 저장\n",
    "- MySQL의 project1 DB에서 bus_station_location 테이블 전체 조회\n",
    "- pandas를 이용해 DataFrame으로 불러온 후 CSV로 저장\n",
    "- 저장 경로: ../data/bus_station_location.csv\n",
    "---\n"
   ]
  },
  {
   "cell_type": "code",
   "execution_count": 5,
   "metadata": {},
   "outputs": [
    {
     "name": "stderr",
     "output_type": "stream",
     "text": [
      "/tmp/ipykernel_26024/1805133535.py:15: UserWarning: pandas only supports SQLAlchemy connectable (engine/connection) or database string URI or sqlite3 DBAPI2 connection. Other DBAPI2 objects are not tested. Please consider using SQLAlchemy.\n",
      "  df = pd.read_sql(query, conn)\n"
     ]
    },
    {
     "name": "stdout",
     "output_type": "stream",
     "text": [
      "CSV 저장 완료: ../data/bus_station_location.csv\n"
     ]
    }
   ],
   "source": [
    "import pandas as pd\n",
    "import mysql.connector\n",
    "\n",
    "# 1. MySQL 연결\n",
    "conn = mysql.connector.connect(\n",
    "    host='jinhyuk2db.c94oygiiukcg.ap-northeast-2.rds.amazonaws.com',\n",
    "    port=3306,\n",
    "    user='root',\n",
    "    password='jinhyuk2dacibul',\n",
    "    database='project1'\n",
    ")\n",
    "\n",
    "# 2. 테이블 조회\n",
    "query = \"SELECT * FROM bus_station_location\"\n",
    "df = pd.read_sql(query, conn)\n",
    "\n",
    "# 3. CSV 저장\n",
    "save_path = '../data/bus_station_location.csv'\n",
    "df.to_csv(save_path, index=False, encoding='utf-8-sig')\n",
    "\n",
    "# 4. 연결 종료\n",
    "conn.close()\n",
    "\n",
    "print(\"CSV 저장 완료:\", save_path)\n"
   ]
  },
  {
   "cell_type": "markdown",
   "metadata": {},
   "source": [
    "---\n",
    "## CSV 컬럼 추가 - bus_station_location.csv에 KIKmix.20190701.xlsx를 이용해서 행정동 칼럼 추가.\n",
    "---\n"
   ]
  },
  {
   "cell_type": "code",
   "execution_count": 7,
   "metadata": {},
   "outputs": [],
   "source": [
    "# 1. 파일 불러오기\n",
    "df_bus = pd.read_csv('../data/bus_station_location.csv')  # 버스 위치 파일\n",
    "df_kik = pd.read_excel('../data/KIKmix.20190701.xlsx', sheet_name='KIKmix')  # 행정동 매핑\n",
    "\n",
    "# 2. 필요한 컬럼만 추출 및 이름 정리\n",
    "df_kik_map = df_kik[['시군구명', '읍면동명', '동리명']].dropna()\n",
    "df_kik_map = df_kik_map.rename(columns={\n",
    "    '시군구명': 'gu',\n",
    "    '읍면동명': '행정동',\n",
    "    '동리명': 'dong'\n",
    "})\n",
    "\n",
    "# 3. gu + dong 기준으로 merge\n",
    "df_merged = pd.merge(df_bus, df_kik_map, on=['gu', 'dong'], how='left')\n",
    "\n",
    "# 4. 저장\n",
    "df_merged.to_csv('../data/bus_station_location_with_admin.csv', index=False, encoding='utf-8-sig')\n"
   ]
  },
  {
   "cell_type": "markdown",
   "metadata": {},
   "source": [
    "---\n",
    "## CSV 추출 - bus_station_hourly_timeflow과 bus_station_location_with_admin를 이용해 행정동별 버스 승하차수 csv파일 만들기.\n",
    "---\n"
   ]
  },
  {
   "cell_type": "code",
   "execution_count": 10,
   "metadata": {},
   "outputs": [
    {
     "name": "stderr",
     "output_type": "stream",
     "text": [
      "/tmp/ipykernel_26024/3880986186.py:8: DtypeWarning: Columns (0) have mixed types. Specify dtype option on import or set low_memory=False.\n",
      "  df_flow = pd.read_csv(flow_path)\n"
     ]
    },
    {
     "name": "stdout",
     "output_type": "stream",
     "text": [
      "✅ 저장 완료: ../data/bus_hourly_by_admin_dong_2024.csv\n"
     ]
    }
   ],
   "source": [
    "import pandas as pd\n",
    "\n",
    "# 1. 파일 경로\n",
    "flow_path = \"../data/bus_station_hourly_timeflow.csv\"\n",
    "location_path = \"../data/bus_station_location_with_admin.csv\"\n",
    "\n",
    "# 2. CSV 파일 불러오기\n",
    "df_flow = pd.read_csv(flow_path)\n",
    "df_location = pd.read_csv(location_path)\n",
    "\n",
    "# 3. 정류장 ID 기준 merge\n",
    "df_merged = pd.merge(df_flow, df_location, on='bus_station_id', how='left')\n",
    "\n",
    "# 4. 승하차 합산\n",
    "boarding_cols = [col for col in df_merged.columns if col.startswith('boarding_')]\n",
    "alighting_cols = [col for col in df_merged.columns if col.startswith('alighting_')]\n",
    "df_merged['total_passenger'] = df_merged[boarding_cols].sum(axis=1) + df_merged[alighting_cols].sum(axis=1)\n",
    "\n",
    "# ✅ 5. 2024년 데이터만 필터링\n",
    "df_merged_2024 = df_merged[df_merged['date_period'].astype(str).str.startswith(\"2024\")]\n",
    "\n",
    "# 6. 그룹화\n",
    "df_grouped = df_merged_2024.groupby(['행정동', 'gu', 'date_period'], as_index=False)['total_passenger'].sum()\n",
    "\n",
    "# 7. 저장\n",
    "df_grouped.to_csv(\"../data/bus_hourly_by_admin_dong_2024.csv\", index=False, encoding=\"utf-8-sig\")\n",
    "\n",
    "print(\"✅ 저장 완료: ../data/bus_hourly_by_admin_dong_2024.csv\")\n"
   ]
  }
 ],
 "metadata": {
  "kernelspec": {
   "display_name": "eda_venv",
   "language": "python",
   "name": "python3"
  },
  "language_info": {
   "codemirror_mode": {
    "name": "ipython",
    "version": 3
   },
   "file_extension": ".py",
   "mimetype": "text/x-python",
   "name": "python",
   "nbconvert_exporter": "python",
   "pygments_lexer": "ipython3",
   "version": "3.12.3"
  }
 },
 "nbformat": 4,
 "nbformat_minor": 2
}
