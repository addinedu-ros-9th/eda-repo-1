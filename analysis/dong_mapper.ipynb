{
 "cells": [
  {
   "cell_type": "code",
   "execution_count": 2,
   "metadata": {},
   "outputs": [
    {
     "name": "stdout",
     "output_type": "stream",
     "text": [
      "Index(['adm_nm', 'adm_cd2', 'sgg', 'sido', 'sidonm', 'sggnm', 'adm_cd',\n",
      "       'geometry'],\n",
      "      dtype='object')\n"
     ]
    }
   ],
   "source": [
    "import geopandas as gpd\n",
    "\n",
    "gdf_admin = gpd.read_file(\"/home/kbj/Downloads/HangJeongDong_ver20241001.geojson\")\n",
    "print(gdf_admin.columns)  # 어떤 행정동 정보가 있는지 확인\n"
   ]
  },
  {
   "cell_type": "code",
   "execution_count": 5,
   "metadata": {},
   "outputs": [],
   "source": [
    "import pandas as pd\n",
    "from shapely.geometry import Point\n",
    "\n",
    "df_station = pd.read_csv(\"/home/kbj/Downloads/station_table.csv\")\n",
    "\n",
    "# geometry 컬럼 생성\n",
    "df_station[\"geometry\"] = df_station.apply(lambda row: Point(row[\"station_longitude\"], row[\"station_latitude\"]), axis=1)\n",
    "gdf_station = gpd.GeoDataFrame(df_station, geometry=\"geometry\", crs=\"EPSG:4326\")\n"
   ]
  },
  {
   "cell_type": "code",
   "execution_count": 6,
   "metadata": {},
   "outputs": [],
   "source": [
    "gdf_admin = gdf_admin.to_crs(\"EPSG:4326\")  # 행정동 경계 좌표계 맞추기\n",
    "gdf_joined = gpd.sjoin(gdf_station, gdf_admin, how=\"left\", predicate=\"intersects\")\n"
   ]
  },
  {
   "cell_type": "code",
   "execution_count": 11,
   "metadata": {},
   "outputs": [
    {
     "name": "stdout",
     "output_type": "stream",
     "text": [
      "완료! 파일 저장됨: station_with_admin_dong.csv\n"
     ]
    }
   ],
   "source": [
    "import pandas as pd\n",
    "import geopandas as gpd\n",
    "from shapely.geometry import Point\n",
    "\n",
    "# ✅ 1. 대여소 CSV 불러오기\n",
    "df = pd.read_csv(\"/home/kbj/Downloads/station_table.csv\")\n",
    "\n",
    "# ✅ 2. GeoDataFrame으로 변환 (geometry 컬럼 만들기)\n",
    "gdf_stations = gpd.GeoDataFrame(\n",
    "    df,\n",
    "    geometry=df.apply(lambda row: Point(row['station_longitude'], row['station_latitude']), axis=1),\n",
    "    crs=\"EPSG:4326\"\n",
    ")\n",
    "\n",
    "# ✅ 3. 행정동 GeoJSON 불러오기\n",
    "gdf_dong = gpd.read_file(\"/home/kbj/Downloads/HangJeongDong_ver20241001.geojson\")\n",
    "\n",
    "# ✅ 4. Spatial Join 수행\n",
    "gdf_joined = gpd.sjoin(gdf_stations, gdf_dong, how=\"left\", predicate=\"within\")\n",
    "\n",
    "# ✅ 5. 필요한 컬럼만 정리\n",
    "df_result = gdf_joined[[\n",
    "    \"station_id\", \"station_gu\", \"station_dong\",\n",
    "    \"station_latitude\", \"station_longitude\", \"adm_nm\"\n",
    "]].rename(columns={\"adm_nm\": \"행정동명\"})\n",
    "\n",
    "\n",
    "# ✅ 6. 저장\n",
    "df_result.to_csv(\"/home/kbj/Downloads/station_with_admin_dong.csv\", index=False)\n",
    "print(\"완료! 파일 저장됨: station_with_admin_dong.csv\")\n"
   ]
  },
  {
   "cell_type": "code",
   "execution_count": 10,
   "metadata": {},
   "outputs": [
    {
     "name": "stdout",
     "output_type": "stream",
     "text": [
      "Index(['adm_nm', 'adm_cd2', 'sgg', 'sido', 'sidonm', 'sggnm', 'adm_cd',\n",
      "       'geometry'],\n",
      "      dtype='object')\n"
     ]
    }
   ],
   "source": [
    "print(gdf_dong.columns)\n"
   ]
  },
  {
   "cell_type": "code",
   "execution_count": 12,
   "metadata": {},
   "outputs": [
    {
     "name": "stdout",
     "output_type": "stream",
     "text": [
      "             행정동명 행정동_only\n",
      "0   서울특별시 마포구 서교동      서교동\n",
      "1  서울특별시 광진구 자양3동     자양3동\n",
      "2  서울특별시 양천구 신정7동     신정7동\n",
      "3  서울특별시 양천구 신월3동     신월3동\n",
      "4   서울특별시 양천구 목1동      목1동\n"
     ]
    }
   ],
   "source": [
    "import pandas as pd\n",
    "\n",
    "# CSV 파일 불러오기\n",
    "df = pd.read_csv(\"/home/kbj/Downloads/station_with_admin_dong.csv\")\n",
    "\n",
    "# ✅ 행정동명에서 \"서울특별시\", \"구\" 제거\n",
    "df[\"행정동_only\"] = df[\"행정동명\"].str.replace(\"서울특별시\", \"\", regex=False)\n",
    "df[\"행정동_only\"] = df[\"행정동_only\"].str.replace(r\"\\s*\\S+구\\s*\", \"\", regex=True)  # 'XX구' 제거\n",
    "\n",
    "# 결과 확인\n",
    "print(df[[\"행정동명\", \"행정동_only\"]].head())\n",
    "\n",
    "\n",
    "df.to_csv(\"station_with_dong_only.csv\", index=False)\n"
   ]
  },
  {
   "cell_type": "code",
   "execution_count": 14,
   "metadata": {},
   "outputs": [
    {
     "name": "stdout",
     "output_type": "stream",
     "text": [
      "  행정동_only\n",
      "0      서교동\n",
      "1     자양3동\n",
      "2     신정7동\n",
      "3     신월3동\n",
      "4      목1동\n"
     ]
    }
   ],
   "source": [
    "import pandas as pd\n",
    "\n",
    "# CSV 불러오기\n",
    "df = pd.read_csv(\"/home/kbj/Downloads/station_with_dong_only.csv\")\n",
    "\n",
    "# ✅ '행정동_only' 컬럼에서 '·' → '.'로 변경\n",
    "df[\"행정동_only\"] = df[\"행정동_only\"].str.replace(\"·\", \".\", regex=False)\n",
    "\n",
    "# ✅ 결과 저장\n",
    "df.to_csv(\"station_with_dong_only_fixed.csv\", index=False)\n",
    "\n",
    "# ✅ 변경된 상위 5개 확인\n",
    "print(df[[\"행정동_only\"]].head())\n"
   ]
  },
  {
   "cell_type": "code",
   "execution_count": null,
   "metadata": {},
   "outputs": [],
   "source": [
    "import pandas as pd\n",
    "import mysql.connector\n",
    "\n",
    "# CSV 불러오기\n",
    "df = pd.read_csv(\"/home/kbj/Downloads/station_with_dong_only_fixed.csv\")\n",
    "\n",
    "# MySQL 연결\n",
    "conn = mysql.connector.connect(\n",
    "    host=\"host\",\n",
    "    port=0000,\n",
    "    user=\"user\",\n",
    "    password=\"password\",\n",
    "    database=\"project1\"\n",
    ")\n",
    "cursor = conn.cursor()\n",
    "\n",
    "# 테이블 생성\n",
    "create_table_sql = \"\"\"\n",
    "CREATE TABLE IF NOT EXISTS station_b (\n",
    "    station_id VARCHAR(20) PRIMARY KEY,\n",
    "    station_gu VARCHAR(20),\n",
    "    station_latitude DOUBLE,\n",
    "    station_longitude DOUBLE,\n",
    "    station_elevation INT,\n",
    "    station_dong VARCHAR(50)\n",
    ");\n",
    "\"\"\"\n",
    "cursor.execute(create_table_sql)\n",
    "\n",
    "# 데이터 삽입\n",
    "for _, row in df.iterrows():\n",
    "    cursor.execute(\"\"\"\n",
    "        INSERT INTO station_b (station_id, station_gu, station_latitude, station_longitude, station_elevation, station_dong)\n",
    "        VALUES (%s, %s, %s, %s, %s, %s)\n",
    "    \"\"\", (\n",
    "        row['station_id'],\n",
    "        row['station_gu'],\n",
    "        row['station_latitude'],\n",
    "        row['station_longitude'],\n",
    "        int(row['station_elevation']),\n",
    "        row['행정동_only']  # 여기 수정됨!\n",
    "    ))\n",
    "\n",
    "conn.commit()\n",
    "cursor.close()\n",
    "conn.close()\n"
   ]
  }
 ],
 "metadata": {
  "kernelspec": {
   "display_name": "eda_venv",
   "language": "python",
   "name": "python3"
  },
  "language_info": {
   "codemirror_mode": {
    "name": "ipython",
    "version": 3
   },
   "file_extension": ".py",
   "mimetype": "text/x-python",
   "name": "python",
   "nbconvert_exporter": "python",
   "pygments_lexer": "ipython3",
   "version": "3.10.12"
  }
 },
 "nbformat": 4,
 "nbformat_minor": 2
}
